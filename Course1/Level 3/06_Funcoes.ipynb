{
  "cells": [
    {
      "cell_type": "code",
      "execution_count": null,
      "metadata": {
        "id": "3r7_oy2ShY4d",
        "outputId": "8b72f8b1-715d-42d3-e87c-50158a054877"
      },
      "outputs": [
        {
          "name": "stdout",
          "output_type": "stream",
          "text": [
            "Versão da Linguagem Python Usada Neste Jupyter Notebook: 3.8.8\n"
          ]
        }
      ],
      "source": [
        "# Versão da Linguagem Python\n",
        "from platform import python_version\n",
        "print('Versão da Linguagem Python Usada Neste Jupyter Notebook:', python_version())"
      ]
    },
    {
      "cell_type": "markdown",
      "metadata": {
        "id": "AseyesRwhY4g"
      },
      "source": [
        "# Funções"
      ]
    },
    {
      "cell_type": "code",
      "execution_count": null,
      "metadata": {
        "id": "ID5irFAnhY4h"
      },
      "outputs": [],
      "source": [
        "# Definindo uma função\n",
        "def primeiraFunc():\n",
        "    print('Hello World')"
      ]
    },
    {
      "cell_type": "code",
      "execution_count": null,
      "metadata": {
        "id": "FKqXw1KzhY4i",
        "outputId": "97122f5f-8023-4900-c8d5-1473890a5f5f"
      },
      "outputs": [
        {
          "name": "stdout",
          "output_type": "stream",
          "text": [
            "Hello World\n"
          ]
        }
      ],
      "source": [
        "primeiraFunc()"
      ]
    },
    {
      "cell_type": "code",
      "execution_count": null,
      "metadata": {
        "id": "-Q5XCxuMhY4j"
      },
      "outputs": [],
      "source": [
        "# Definindo uma função com parâmetro\n",
        "def primeiraFunc(nome):\n",
        "    print('Hello %s' %(nome))"
      ]
    },
    {
      "cell_type": "code",
      "execution_count": null,
      "metadata": {
        "id": "CZlslGHVhY4k",
        "outputId": "a4e49d00-6502-4c3f-e66d-042adaf97191"
      },
      "outputs": [
        {
          "name": "stdout",
          "output_type": "stream",
          "text": [
            "Hello Aluno\n"
          ]
        }
      ],
      "source": [
        "primeiraFunc('Aluno')"
      ]
    },
    {
      "cell_type": "code",
      "execution_count": null,
      "metadata": {
        "id": "-ITR8GEVhY4l"
      },
      "outputs": [],
      "source": [
        "def funcLeitura():\n",
        "    for i in range(0, 5):\n",
        "        print(\"Número \" + str(i))"
      ]
    },
    {
      "cell_type": "code",
      "execution_count": null,
      "metadata": {
        "id": "c7h-kLIKhY4l",
        "outputId": "29d3d58d-454f-43f5-ea03-6ddfd945b612"
      },
      "outputs": [
        {
          "name": "stdout",
          "output_type": "stream",
          "text": [
            "Número 0\n",
            "Número 1\n",
            "Número 2\n",
            "Número 3\n",
            "Número 4\n"
          ]
        }
      ],
      "source": [
        "funcLeitura()"
      ]
    },
    {
      "cell_type": "code",
      "execution_count": null,
      "metadata": {
        "id": "nG3Kn7puhY4m"
      },
      "outputs": [],
      "source": [
        "# Função para somar números\n",
        "def addNum(firstnum, secondnum):\n",
        "    print(\"Primeiro número: \" + str(firstnum))\n",
        "    print(\"Segundo número: \" + str(secondnum))\n",
        "    print(\"Soma: \", firstnum + secondnum)"
      ]
    },
    {
      "cell_type": "code",
      "execution_count": null,
      "metadata": {
        "id": "Bmdh1pDghY4n",
        "outputId": "fa298ed3-3321-4389-83d5-f1e99bc19beb"
      },
      "outputs": [
        {
          "name": "stdout",
          "output_type": "stream",
          "text": [
            "Primeiro número: 45\n",
            "Segundo número: 3\n",
            "Soma:  48\n"
          ]
        }
      ],
      "source": [
        "# Chamando a função e passando parâmetros\n",
        "addNum(45, 3)"
      ]
    },
    {
      "cell_type": "markdown",
      "metadata": {
        "id": "EIRCX8JzhY4o"
      },
      "source": [
        "### Variáveis locais e globais"
      ]
    },
    {
      "cell_type": "code",
      "execution_count": null,
      "metadata": {
        "id": "TzrmUFGLhY4o"
      },
      "outputs": [],
      "source": [
        "# Variável Global\n",
        "var_global = 10  # Esta é uma variável global\n",
        "\n",
        "def multiply(num1, num2):\n",
        "    var_global = num1 * num2  # Esta é uma variável local\n",
        "    print(var_global)"
      ]
    },
    {
      "cell_type": "code",
      "execution_count": null,
      "metadata": {
        "id": "Wgq8xtS4hY4p",
        "outputId": "15290958-c207-4070-d351-155b4e13c693"
      },
      "outputs": [
        {
          "name": "stdout",
          "output_type": "stream",
          "text": [
            "125\n"
          ]
        }
      ],
      "source": [
        "multiply(5, 25)"
      ]
    },
    {
      "cell_type": "code",
      "execution_count": null,
      "metadata": {
        "id": "BWZOlaBuhY4p",
        "outputId": "035e384c-ac51-44e1-99c3-52f6e625daf3"
      },
      "outputs": [
        {
          "name": "stdout",
          "output_type": "stream",
          "text": [
            "10\n"
          ]
        }
      ],
      "source": [
        "print(var_global)"
      ]
    },
    {
      "cell_type": "code",
      "execution_count": null,
      "metadata": {
        "id": "zfx6N7cthY4q"
      },
      "outputs": [],
      "source": [
        "# Variável Local\n",
        "var_global = 10  # Esta é uma variável global\n",
        "def multiply(num1, num2):\n",
        "    var_local = num1 * num2   # Esta é uma variável local\n",
        "    print(var_local)"
      ]
    },
    {
      "cell_type": "code",
      "execution_count": null,
      "metadata": {
        "id": "AYkG65SjhY4q",
        "outputId": "be420c65-ee98-4e1f-a583-2e28ba2bca8a"
      },
      "outputs": [
        {
          "name": "stdout",
          "output_type": "stream",
          "text": [
            "125\n"
          ]
        }
      ],
      "source": [
        "multiply(5, 25)"
      ]
    },
    {
      "cell_type": "code",
      "execution_count": null,
      "metadata": {
        "id": "AIX4HppnhY4r",
        "outputId": "021f12d6-ebf3-4933-cf76-81cc48b3297d"
      },
      "outputs": [
        {
          "ename": "NameError",
          "evalue": "name 'var_local' is not defined",
          "output_type": "error",
          "traceback": [
            "\u001b[0;31m---------------------------------------------------------------------------\u001b[0m",
            "\u001b[0;31mNameError\u001b[0m                                 Traceback (most recent call last)",
            "\u001b[0;32m<ipython-input-15-0a9f1c3cecf1>\u001b[0m in \u001b[0;36m<module>\u001b[0;34m\u001b[0m\n\u001b[0;32m----> 1\u001b[0;31m \u001b[0mprint\u001b[0m\u001b[0;34m(\u001b[0m\u001b[0mvar_local\u001b[0m\u001b[0;34m)\u001b[0m\u001b[0;34m\u001b[0m\u001b[0;34m\u001b[0m\u001b[0m\n\u001b[0m",
            "\u001b[0;31mNameError\u001b[0m: name 'var_local' is not defined"
          ]
        }
      ],
      "source": [
        "print(var_local)"
      ]
    },
    {
      "cell_type": "markdown",
      "metadata": {
        "id": "iXgJDPzshY4s"
      },
      "source": [
        "### Funções Built-in"
      ]
    },
    {
      "cell_type": "code",
      "execution_count": null,
      "metadata": {
        "id": "r-M4G89RhY4s",
        "outputId": "9374796c-ce8a-4703-aee2-724a7bf652c7"
      },
      "outputs": [
        {
          "data": {
            "text/plain": [
              "56"
            ]
          },
          "execution_count": 16,
          "metadata": {},
          "output_type": "execute_result"
        }
      ],
      "source": [
        "abs(-56)"
      ]
    },
    {
      "cell_type": "code",
      "execution_count": null,
      "metadata": {
        "id": "RJ2aEdBdhY4t",
        "outputId": "4a478240-c90c-4c5b-bef1-91866abe43eb"
      },
      "outputs": [
        {
          "data": {
            "text/plain": [
              "23"
            ]
          },
          "execution_count": 17,
          "metadata": {},
          "output_type": "execute_result"
        }
      ],
      "source": [
        "abs(23)"
      ]
    },
    {
      "cell_type": "code",
      "execution_count": null,
      "metadata": {
        "id": "FyTcJJpGhY4t",
        "outputId": "3a03e0bd-64d0-4b13-8c59-a0484325c50d"
      },
      "outputs": [
        {
          "data": {
            "text/plain": [
              "False"
            ]
          },
          "execution_count": 18,
          "metadata": {},
          "output_type": "execute_result"
        }
      ],
      "source": [
        "bool(0)"
      ]
    },
    {
      "cell_type": "code",
      "execution_count": null,
      "metadata": {
        "id": "8Rrd90IshY4t",
        "outputId": "831b9e42-fec9-42b3-bc9e-dff81843d1f4"
      },
      "outputs": [
        {
          "data": {
            "text/plain": [
              "True"
            ]
          },
          "execution_count": 19,
          "metadata": {},
          "output_type": "execute_result"
        }
      ],
      "source": [
        "bool(1)"
      ]
    },
    {
      "cell_type": "markdown",
      "metadata": {
        "id": "dQkxVDLdhY4u"
      },
      "source": [
        "### Funções str, int, float"
      ]
    },
    {
      "cell_type": "code",
      "execution_count": null,
      "metadata": {
        "id": "ksiPLVCqhY4w",
        "outputId": "493bfa95-c450-46d2-ac52-2b9538e6a539"
      },
      "outputs": [
        {
          "name": "stdout",
          "output_type": "stream",
          "text": [
            "Digite sua idade: 18\n"
          ]
        },
        {
          "ename": "TypeError",
          "evalue": "'>' not supported between instances of 'str' and 'int'",
          "output_type": "error",
          "traceback": [
            "\u001b[0;31m---------------------------------------------------------------------------\u001b[0m",
            "\u001b[0;31mTypeError\u001b[0m                                 Traceback (most recent call last)",
            "\u001b[0;32m<ipython-input-20-97c304e276e5>\u001b[0m in \u001b[0;36m<module>\u001b[0;34m\u001b[0m\n\u001b[1;32m      1\u001b[0m \u001b[0;31m# Erro ao executar por causa da conversão\u001b[0m\u001b[0;34m\u001b[0m\u001b[0;34m\u001b[0m\u001b[0;34m\u001b[0m\u001b[0m\n\u001b[1;32m      2\u001b[0m \u001b[0midade\u001b[0m \u001b[0;34m=\u001b[0m \u001b[0minput\u001b[0m\u001b[0;34m(\u001b[0m\u001b[0;34m\"Digite sua idade: \"\u001b[0m\u001b[0;34m)\u001b[0m\u001b[0;34m\u001b[0m\u001b[0;34m\u001b[0m\u001b[0m\n\u001b[0;32m----> 3\u001b[0;31m \u001b[0;32mif\u001b[0m \u001b[0midade\u001b[0m \u001b[0;34m>\u001b[0m \u001b[0;36m13\u001b[0m\u001b[0;34m:\u001b[0m\u001b[0;34m\u001b[0m\u001b[0;34m\u001b[0m\u001b[0m\n\u001b[0m\u001b[1;32m      4\u001b[0m     \u001b[0mprint\u001b[0m\u001b[0;34m(\u001b[0m\u001b[0;34m\"Você pode acessar o Facebook\"\u001b[0m\u001b[0;34m)\u001b[0m\u001b[0;34m\u001b[0m\u001b[0;34m\u001b[0m\u001b[0m\n",
            "\u001b[0;31mTypeError\u001b[0m: '>' not supported between instances of 'str' and 'int'"
          ]
        }
      ],
      "source": [
        "# Erro ao executar por causa da conversão\n",
        "idade = input(\"Digite sua idade: \")\n",
        "if idade > 13:\n",
        "    print(\"Você pode acessar o Facebook\")  "
      ]
    },
    {
      "cell_type": "code",
      "execution_count": null,
      "metadata": {
        "id": "lE3oIaochY4w",
        "outputId": "1c6b4a18-6d02-47bc-ab6a-926f58e86322"
      },
      "outputs": [
        {
          "name": "stdout",
          "output_type": "stream",
          "text": [
            "Digite sua idade: 18\n",
            "Você pode acessar o Facebook\n"
          ]
        }
      ],
      "source": [
        "# Usando a função int para converter o valor digitado\n",
        "idade = int(input(\"Digite sua idade: \"))\n",
        "if idade > 13:\n",
        "    print(\"Você pode acessar o Facebook\")  "
      ]
    },
    {
      "cell_type": "code",
      "execution_count": null,
      "metadata": {
        "id": "wh02VVeQhY4x",
        "outputId": "adbbe213-036c-49df-a46b-2155936991db"
      },
      "outputs": [
        {
          "data": {
            "text/plain": [
              "26"
            ]
          },
          "execution_count": 22,
          "metadata": {},
          "output_type": "execute_result"
        }
      ],
      "source": [
        "int(\"26\")"
      ]
    },
    {
      "cell_type": "code",
      "execution_count": null,
      "metadata": {
        "id": "uQK_1W_thY4x",
        "outputId": "1d981672-b41d-467e-d4af-cef656e6e811"
      },
      "outputs": [
        {
          "data": {
            "text/plain": [
              "123.345"
            ]
          },
          "execution_count": 23,
          "metadata": {},
          "output_type": "execute_result"
        }
      ],
      "source": [
        "float(\"123.345\")"
      ]
    },
    {
      "cell_type": "code",
      "execution_count": null,
      "metadata": {
        "id": "rvi3WyWchY4y",
        "outputId": "277af8c9-bfa6-44d2-fc9e-a67d4f594dee"
      },
      "outputs": [
        {
          "data": {
            "text/plain": [
              "'14'"
            ]
          },
          "execution_count": 24,
          "metadata": {},
          "output_type": "execute_result"
        }
      ],
      "source": [
        "str(14)"
      ]
    },
    {
      "cell_type": "code",
      "execution_count": null,
      "metadata": {
        "id": "AEKkgV-1hY4y",
        "outputId": "fb62dc0d-508b-4019-e182-5fdb366ab41f"
      },
      "outputs": [
        {
          "data": {
            "text/plain": [
              "4"
            ]
          },
          "execution_count": 25,
          "metadata": {},
          "output_type": "execute_result"
        }
      ],
      "source": [
        "len([23,34,45,46])"
      ]
    },
    {
      "cell_type": "code",
      "execution_count": null,
      "metadata": {
        "id": "0_oGwCBdhY4z"
      },
      "outputs": [],
      "source": [
        "array = ['a', 'b', 'c']"
      ]
    },
    {
      "cell_type": "code",
      "execution_count": null,
      "metadata": {
        "id": "aKZU0bMfhY40",
        "outputId": "13d744be-9b99-40e0-f6f5-51e954ba21f0"
      },
      "outputs": [
        {
          "data": {
            "text/plain": [
              "'c'"
            ]
          },
          "execution_count": 27,
          "metadata": {},
          "output_type": "execute_result"
        }
      ],
      "source": [
        "max(array)"
      ]
    },
    {
      "cell_type": "code",
      "execution_count": null,
      "metadata": {
        "id": "UPWGo_gZhY40",
        "outputId": "842c65c7-8d6d-438e-8cbe-24f1a31bf4f2"
      },
      "outputs": [
        {
          "data": {
            "text/plain": [
              "'a'"
            ]
          },
          "execution_count": 28,
          "metadata": {},
          "output_type": "execute_result"
        }
      ],
      "source": [
        "min(array)"
      ]
    },
    {
      "cell_type": "code",
      "execution_count": null,
      "metadata": {
        "id": "wsxr3nT0hY41"
      },
      "outputs": [],
      "source": [
        "array = ['a', 'b', 'c', 'd', 'A', 'B', 'C', 'D']"
      ]
    },
    {
      "cell_type": "code",
      "execution_count": null,
      "metadata": {
        "id": "srNMtfZVhY41",
        "outputId": "0adfa440-a160-49cd-e9cc-8af148f3a163"
      },
      "outputs": [
        {
          "data": {
            "text/plain": [
              "['a', 'b', 'c', 'd', 'A', 'B', 'C', 'D']"
            ]
          },
          "execution_count": 30,
          "metadata": {},
          "output_type": "execute_result"
        }
      ],
      "source": [
        "array"
      ]
    },
    {
      "cell_type": "code",
      "execution_count": null,
      "metadata": {
        "id": "btLEXsKthY41",
        "outputId": "a5183b7c-2979-4e04-c395-e145e7ea2034"
      },
      "outputs": [
        {
          "data": {
            "text/plain": [
              "'d'"
            ]
          },
          "execution_count": 31,
          "metadata": {},
          "output_type": "execute_result"
        }
      ],
      "source": [
        "max(array)"
      ]
    },
    {
      "cell_type": "code",
      "execution_count": null,
      "metadata": {
        "id": "LRubD539hY42",
        "outputId": "39612027-5da8-413e-ea68-dfd36227c00d"
      },
      "outputs": [
        {
          "data": {
            "text/plain": [
              "'A'"
            ]
          },
          "execution_count": 32,
          "metadata": {},
          "output_type": "execute_result"
        }
      ],
      "source": [
        "min(array)"
      ]
    },
    {
      "cell_type": "code",
      "execution_count": null,
      "metadata": {
        "id": "ZXTthsQxhY42"
      },
      "outputs": [],
      "source": [
        "list1 = [23, 23, 34, 45]"
      ]
    },
    {
      "cell_type": "code",
      "execution_count": null,
      "metadata": {
        "id": "X90PJQKwhY42",
        "outputId": "2c478be2-983a-4ff9-b7d1-772ef62b7253"
      },
      "outputs": [
        {
          "data": {
            "text/plain": [
              "125"
            ]
          },
          "execution_count": 34,
          "metadata": {},
          "output_type": "execute_result"
        }
      ],
      "source": [
        "sum(list1)"
      ]
    },
    {
      "cell_type": "markdown",
      "metadata": {
        "id": "8nNF_aMOhY43"
      },
      "source": [
        "### Criando funções usando outras funções"
      ]
    },
    {
      "cell_type": "code",
      "execution_count": null,
      "metadata": {
        "id": "7fnGPxJlhY43"
      },
      "outputs": [],
      "source": [
        "import math\n",
        "\n",
        "def numPrimo(num):\n",
        "    '''\n",
        "    Verificando se um número \n",
        "    é primo. \n",
        "    '''\n",
        "    if (num % 2) == 0 and num > 2: \n",
        "        return \"Este número não é primo\"\n",
        "    for i in range(3, int(math.sqrt(num)) + 1, 2):\n",
        "        if (num % i) == 0:\n",
        "            return \"Este número não é primo\"\n",
        "    return \"Este número é primo\""
      ]
    },
    {
      "cell_type": "code",
      "execution_count": null,
      "metadata": {
        "id": "1TZ8iZEohY43",
        "outputId": "a87a1748-b45f-4287-bb09-5294b40fc683"
      },
      "outputs": [
        {
          "data": {
            "text/plain": [
              "'Este número é primo'"
            ]
          },
          "execution_count": 36,
          "metadata": {},
          "output_type": "execute_result"
        }
      ],
      "source": [
        "numPrimo(541)"
      ]
    },
    {
      "cell_type": "markdown",
      "metadata": {
        "id": "diza8ckEhY44"
      },
      "source": [
        "### Fazendo split dos dados"
      ]
    },
    {
      "cell_type": "code",
      "execution_count": null,
      "metadata": {
        "id": "rY3adlKbhY44"
      },
      "outputs": [],
      "source": [
        "# Fazendo split dos dados\n",
        "def split_string(text):\n",
        "    return text.split(\" \")"
      ]
    },
    {
      "cell_type": "code",
      "execution_count": null,
      "metadata": {
        "id": "lE_GAke_hY44"
      },
      "outputs": [],
      "source": [
        "texto = \"Esta função será bastante útil para separar grandes volumes de dados.\""
      ]
    },
    {
      "cell_type": "code",
      "execution_count": null,
      "metadata": {
        "id": "SMjFkvlBhY45",
        "outputId": "c697579e-d533-41fe-da11-a76370be6fa2"
      },
      "outputs": [
        {
          "name": "stdout",
          "output_type": "stream",
          "text": [
            "['Esta', 'função', 'será', 'bastante', 'útil', 'para', 'separar', 'grandes', 'volumes', 'de', 'dados.']\n"
          ]
        }
      ],
      "source": [
        "# Isso divide a string em uma lista.\n",
        "print(split_string(texto))"
      ]
    },
    {
      "cell_type": "code",
      "execution_count": null,
      "metadata": {
        "id": "LpPuiOI1hY45"
      },
      "outputs": [],
      "source": [
        "# Podemos atribuir o output de uma função, para uma variável\n",
        "token = split_string(texto)"
      ]
    },
    {
      "cell_type": "code",
      "execution_count": null,
      "metadata": {
        "id": "0XgXbkA4hY45",
        "outputId": "8be3c6e5-6862-4b67-c1d5-01951ba024c0"
      },
      "outputs": [
        {
          "data": {
            "text/plain": [
              "['Esta',\n",
              " 'função',\n",
              " 'será',\n",
              " 'bastante',\n",
              " 'útil',\n",
              " 'para',\n",
              " 'separar',\n",
              " 'grandes',\n",
              " 'volumes',\n",
              " 'de',\n",
              " 'dados.']"
            ]
          },
          "execution_count": 41,
          "metadata": {},
          "output_type": "execute_result"
        }
      ],
      "source": [
        "token"
      ]
    },
    {
      "cell_type": "code",
      "execution_count": null,
      "metadata": {
        "id": "ZIN0fdM4hY46"
      },
      "outputs": [],
      "source": [
        "caixa_baixa = \"Este Texto Deveria Estar Todo Em LowerCase\""
      ]
    },
    {
      "cell_type": "code",
      "execution_count": null,
      "metadata": {
        "id": "tAJnqqYthY46"
      },
      "outputs": [],
      "source": [
        "def lowercase(text):\n",
        "    return text.lower()"
      ]
    },
    {
      "cell_type": "code",
      "execution_count": null,
      "metadata": {
        "id": "45VlHOU5hY46"
      },
      "outputs": [],
      "source": [
        "lowercased_string = lowercase(caixa_baixa)"
      ]
    },
    {
      "cell_type": "code",
      "execution_count": null,
      "metadata": {
        "id": "N8Bf07y9hY47",
        "outputId": "7ddbe256-b4e8-49af-d136-c4ce232600bd"
      },
      "outputs": [
        {
          "data": {
            "text/plain": [
              "'este texto deveria estar todo em lowercase'"
            ]
          },
          "execution_count": 45,
          "metadata": {},
          "output_type": "execute_result"
        }
      ],
      "source": [
        "lowercased_string"
      ]
    },
    {
      "cell_type": "code",
      "execution_count": null,
      "metadata": {
        "id": "eTAf0E_BhY47"
      },
      "outputs": [],
      "source": [
        "# Funções com número variável de argumentos\n",
        "def printVarInfo( arg1, *vartuple ):\n",
        "   # Imprimindo o valor do primeiro argumento\n",
        "    print (\"O parâmetro passado foi: \", arg1)\n",
        "   \n",
        "   # Imprimindo o valor do segundo argumento \n",
        "    for item in vartuple:\n",
        "        print (\"O parâmetro passado foi: \", item)\n",
        "    return;"
      ]
    },
    {
      "cell_type": "code",
      "execution_count": null,
      "metadata": {
        "id": "sfYISCxChY47",
        "outputId": "b6fc8106-ac36-4de9-87ca-4cad2030683f"
      },
      "outputs": [
        {
          "name": "stdout",
          "output_type": "stream",
          "text": [
            "O parâmetro passado foi:  10\n"
          ]
        }
      ],
      "source": [
        "# Fazendo chamada à função usando apenas 1 argumento\n",
        "printVarInfo(10)"
      ]
    },
    {
      "cell_type": "code",
      "execution_count": null,
      "metadata": {
        "id": "WO-QT0EAhY48",
        "outputId": "c4a334b0-a936-4aff-bfd8-31f6a1b29fe1"
      },
      "outputs": [
        {
          "name": "stdout",
          "output_type": "stream",
          "text": [
            "O parâmetro passado foi:  Chocolate\n",
            "O parâmetro passado foi:  Morango\n",
            "O parâmetro passado foi:  Banana\n"
          ]
        }
      ],
      "source": [
        "printVarInfo('Chocolate', 'Morango', 'Banana')"
      ]
    },
    {
      "cell_type": "markdown",
      "metadata": {
        "id": "duTgokHOhY48"
      },
      "source": [
        "# Fim"
      ]
    },
    {
      "cell_type": "markdown",
      "metadata": {
        "id": "z8PeVvvrhY48"
      },
      "source": [
        "### Obrigado\n",
        "\n",
        "### Visite o Blog da Data Science Academy - <a href=\"http://blog.dsacademy.com.br\">Blog DSA</a>"
      ]
    }
  ],
  "metadata": {
    "kernelspec": {
      "display_name": "Python 3",
      "language": "python",
      "name": "python3"
    },
    "language_info": {
      "codemirror_mode": {
        "name": "ipython",
        "version": 3
      },
      "file_extension": ".py",
      "mimetype": "text/x-python",
      "name": "python",
      "nbconvert_exporter": "python",
      "pygments_lexer": "ipython3",
      "version": "3.8.8"
    },
    "colab": {
      "provenance": []
    }
  },
  "nbformat": 4,
  "nbformat_minor": 0
}