{
  "cells": [
    {
      "cell_type": "code",
      "execution_count": 2,
      "metadata": {
        "colab": {
          "base_uri": "https://localhost:8080/"
        },
        "id": "154qhApUkwTY",
        "outputId": "0822756b-94db-4f9d-9a15-45b18fe3b700"
      },
      "outputs": [
        {
          "output_type": "stream",
          "name": "stdout",
          "text": [
            "Versão da Linguagem Python Usada Neste Jupyter Notebook: 3.7.13\n"
          ]
        }
      ],
      "source": [
        "# Versão da Linguagem Python\n",
        "from platform import python_version\n",
        "print('Versão da Linguagem Python Usada Neste Jupyter Notebook:', python_version())"
      ]
    },
    {
      "cell_type": "markdown",
      "metadata": {
        "id": "CD1JHnmOkwTd"
      },
      "source": [
        "## Listas"
      ]
    },
    {
      "cell_type": "code",
      "execution_count": 3,
      "metadata": {
        "id": "Zdtk7JF2kwTe"
      },
      "outputs": [],
      "source": [
        "# Criando uma lista\n",
        "listadomercado = [\"ovos, farinha, leite, maças\"]"
      ]
    },
    {
      "cell_type": "code",
      "execution_count": 4,
      "metadata": {
        "colab": {
          "base_uri": "https://localhost:8080/"
        },
        "id": "dlhpyv3wkwTf",
        "outputId": "42d89db3-6b1f-47cc-8856-48e5a4fe2a9b"
      },
      "outputs": [
        {
          "output_type": "stream",
          "name": "stdout",
          "text": [
            "['ovos, farinha, leite, maças']\n"
          ]
        }
      ],
      "source": [
        "# Imprimindo a lista\n",
        "print(listadomercado)"
      ]
    },
    {
      "cell_type": "code",
      "execution_count": 5,
      "metadata": {
        "id": "94qrao-okwTh"
      },
      "outputs": [],
      "source": [
        "# Criando outra lista\n",
        "listadomercado2 = [\"ovos\", \"farinha\", \"leite\", \"maças\"]"
      ]
    },
    {
      "cell_type": "code",
      "execution_count": 6,
      "metadata": {
        "colab": {
          "base_uri": "https://localhost:8080/"
        },
        "id": "o9QF93hMkwTi",
        "outputId": "921c9327-463a-42d1-cdef-a699e93b811f"
      },
      "outputs": [
        {
          "output_type": "stream",
          "name": "stdout",
          "text": [
            "['ovos', 'farinha', 'leite', 'maças']\n"
          ]
        }
      ],
      "source": [
        "# Imprimindo a lista\n",
        "print(listadomercado2)"
      ]
    },
    {
      "cell_type": "code",
      "execution_count": 7,
      "metadata": {
        "id": "fwrR-v7hkwTk"
      },
      "outputs": [],
      "source": [
        "# Criando lista\n",
        "lista3 = [12, 100, \"Universidade\"]"
      ]
    },
    {
      "cell_type": "code",
      "execution_count": 8,
      "metadata": {
        "colab": {
          "base_uri": "https://localhost:8080/"
        },
        "id": "0MNtMz8-kwTr",
        "outputId": "a5826328-af92-4bf6-a488-28386d60d5a6"
      },
      "outputs": [
        {
          "output_type": "stream",
          "name": "stdout",
          "text": [
            "[12, 100, 'Universidade']\n"
          ]
        }
      ],
      "source": [
        "# Imprimindo\n",
        "print(lista3)"
      ]
    },
    {
      "cell_type": "code",
      "execution_count": 9,
      "metadata": {
        "id": "N57pIJfmkwTt"
      },
      "outputs": [],
      "source": [
        "lista3 = [12, 100, \"Universidade\"]"
      ]
    },
    {
      "cell_type": "code",
      "execution_count": 10,
      "metadata": {
        "id": "6vqZxvRvkwTt"
      },
      "outputs": [],
      "source": [
        "# Atribuindo cada valor da lista a uma variável.\n",
        "item1 = lista3[0]\n",
        "item2 = lista3[1]\n",
        "item3 = lista3[2]"
      ]
    },
    {
      "cell_type": "code",
      "execution_count": 11,
      "metadata": {
        "colab": {
          "base_uri": "https://localhost:8080/"
        },
        "id": "dwn02hU_kwTu",
        "outputId": "da596c16-f42c-4125-bc81-1995f7c0ee47"
      },
      "outputs": [
        {
          "output_type": "stream",
          "name": "stdout",
          "text": [
            "12 100 Universidade\n"
          ]
        }
      ],
      "source": [
        "# Imprimindo as variáveis\n",
        "print(item1, item2, item3)"
      ]
    },
    {
      "cell_type": "markdown",
      "metadata": {
        "id": "y3nc_x7nkwTv"
      },
      "source": [
        "### Atualizando um item da lista"
      ]
    },
    {
      "cell_type": "code",
      "execution_count": 12,
      "metadata": {
        "colab": {
          "base_uri": "https://localhost:8080/",
          "height": 35
        },
        "id": "UWQ5Pj0kkwTw",
        "outputId": "f6fc5d61-cc87-4826-e886-c99b59d2143c"
      },
      "outputs": [
        {
          "output_type": "execute_result",
          "data": {
            "text/plain": [
              "'leite'"
            ],
            "application/vnd.google.colaboratory.intrinsic+json": {
              "type": "string"
            }
          },
          "metadata": {},
          "execution_count": 12
        }
      ],
      "source": [
        "# Imprimindo um item da lista\n",
        "listadomercado2[2]"
      ]
    },
    {
      "cell_type": "code",
      "execution_count": 13,
      "metadata": {
        "id": "mZaW_cUVkwTx"
      },
      "outputs": [],
      "source": [
        "# Atualizando um item da lista\n",
        "listadomercado2[2] = \"chocolate\""
      ]
    },
    {
      "cell_type": "code",
      "execution_count": 14,
      "metadata": {
        "colab": {
          "base_uri": "https://localhost:8080/"
        },
        "id": "2KsyaJQ3kwTy",
        "outputId": "f80dce8f-90f0-4377-f8dc-9be0b079bf54"
      },
      "outputs": [
        {
          "output_type": "execute_result",
          "data": {
            "text/plain": [
              "['ovos', 'farinha', 'chocolate', 'maças']"
            ]
          },
          "metadata": {},
          "execution_count": 14
        }
      ],
      "source": [
        "# Imprimindo lista alterada\n",
        "listadomercado2"
      ]
    },
    {
      "cell_type": "markdown",
      "metadata": {
        "id": "bQF4tt-5kwTy"
      },
      "source": [
        "### Deletando um item da lista"
      ]
    },
    {
      "cell_type": "code",
      "execution_count": null,
      "metadata": {
        "id": "y-j3U8WJkwTz"
      },
      "outputs": [],
      "source": [
        "# Out of index. Não é possível deletar um item que não existe na lista\n",
        "del listadomercado2[4]   "
      ]
    },
    {
      "cell_type": "code",
      "execution_count": 16,
      "metadata": {
        "id": "2dQ9NUeLkwT0"
      },
      "outputs": [],
      "source": [
        "# Deletando um item específico da lista\n",
        "del listadomercado2[3]"
      ]
    },
    {
      "cell_type": "code",
      "execution_count": 17,
      "metadata": {
        "colab": {
          "base_uri": "https://localhost:8080/"
        },
        "id": "F9RQ0W4rkwT0",
        "outputId": "d2f5d769-f938-417a-b27a-51ea57841c32"
      },
      "outputs": [
        {
          "output_type": "execute_result",
          "data": {
            "text/plain": [
              "['ovos', 'farinha', 'chocolate']"
            ]
          },
          "metadata": {},
          "execution_count": 17
        }
      ],
      "source": [
        "# Imprimindo o item com a lista alterada\n",
        "listadomercado2"
      ]
    },
    {
      "cell_type": "markdown",
      "metadata": {
        "id": "oePUPPWLkwT1"
      },
      "source": [
        "### Listas de listas (Listas aninhadas)\n",
        "Listas de listas são matrizes em Python"
      ]
    },
    {
      "cell_type": "code",
      "execution_count": 18,
      "metadata": {
        "id": "dd4-IYEbkwT2"
      },
      "outputs": [],
      "source": [
        "# Criando uma lista de listas\n",
        "listas = [[1,2,3], [10,15,14], [10.1,8.7,2.3]]"
      ]
    },
    {
      "cell_type": "code",
      "execution_count": 19,
      "metadata": {
        "colab": {
          "base_uri": "https://localhost:8080/"
        },
        "id": "lQMorE6MkwT2",
        "outputId": "06e7b040-23ba-44fa-9da0-382a8e08e332"
      },
      "outputs": [
        {
          "output_type": "execute_result",
          "data": {
            "text/plain": [
              "[[1, 2, 3], [10, 15, 14], [10.1, 8.7, 2.3]]"
            ]
          },
          "metadata": {},
          "execution_count": 19
        }
      ],
      "source": [
        "# Imprimindo a lista\n",
        "listas"
      ]
    },
    {
      "cell_type": "code",
      "execution_count": 20,
      "metadata": {
        "id": "qzON5mfgkwT3"
      },
      "outputs": [],
      "source": [
        "# Atribuindo um item da lista a uma variável\n",
        "a = listas[0]"
      ]
    },
    {
      "cell_type": "code",
      "execution_count": 21,
      "metadata": {
        "colab": {
          "base_uri": "https://localhost:8080/"
        },
        "id": "OGZmAKkOkwT3",
        "outputId": "61ae034d-c222-4c30-acfa-81910d869505"
      },
      "outputs": [
        {
          "output_type": "execute_result",
          "data": {
            "text/plain": [
              "[1, 2, 3]"
            ]
          },
          "metadata": {},
          "execution_count": 21
        }
      ],
      "source": [
        "a"
      ]
    },
    {
      "cell_type": "code",
      "execution_count": 22,
      "metadata": {
        "id": "kLGIAn0rkwT4"
      },
      "outputs": [],
      "source": [
        "b = a[0]"
      ]
    },
    {
      "cell_type": "code",
      "execution_count": 23,
      "metadata": {
        "colab": {
          "base_uri": "https://localhost:8080/"
        },
        "id": "DTK_rfx9kwT4",
        "outputId": "479a0018-1007-475a-a577-7703036e10c4"
      },
      "outputs": [
        {
          "output_type": "execute_result",
          "data": {
            "text/plain": [
              "1"
            ]
          },
          "metadata": {},
          "execution_count": 23
        }
      ],
      "source": [
        "b"
      ]
    },
    {
      "cell_type": "code",
      "execution_count": 24,
      "metadata": {
        "id": "QdvTvR1KkwT4"
      },
      "outputs": [],
      "source": [
        "list1 = listas[1]"
      ]
    },
    {
      "cell_type": "code",
      "execution_count": 25,
      "metadata": {
        "colab": {
          "base_uri": "https://localhost:8080/"
        },
        "id": "IlYI8cvMkwT5",
        "outputId": "e767b094-d23b-400c-b54d-18175a7c44d7"
      },
      "outputs": [
        {
          "output_type": "execute_result",
          "data": {
            "text/plain": [
              "[10, 15, 14]"
            ]
          },
          "metadata": {},
          "execution_count": 25
        }
      ],
      "source": [
        "list1"
      ]
    },
    {
      "cell_type": "code",
      "execution_count": 26,
      "metadata": {
        "id": "HKfrSSXckwT5"
      },
      "outputs": [],
      "source": [
        "valor_1_0 = list1[0]"
      ]
    },
    {
      "cell_type": "code",
      "execution_count": 27,
      "metadata": {
        "colab": {
          "base_uri": "https://localhost:8080/"
        },
        "id": "-0_-ptA5kwT6",
        "outputId": "267974af-2c20-49ca-e60a-5330c2322af7"
      },
      "outputs": [
        {
          "output_type": "execute_result",
          "data": {
            "text/plain": [
              "10"
            ]
          },
          "metadata": {},
          "execution_count": 27
        }
      ],
      "source": [
        "valor_1_0"
      ]
    },
    {
      "cell_type": "code",
      "execution_count": 28,
      "metadata": {
        "id": "BpP4E64BkwT6"
      },
      "outputs": [],
      "source": [
        "valor_1_2 = list1[2]"
      ]
    },
    {
      "cell_type": "code",
      "execution_count": 29,
      "metadata": {
        "colab": {
          "base_uri": "https://localhost:8080/"
        },
        "id": "U6aLR5grkwT7",
        "outputId": "6d84c90e-4c66-4f7b-d3d8-ce6f6adc05bd"
      },
      "outputs": [
        {
          "output_type": "execute_result",
          "data": {
            "text/plain": [
              "14"
            ]
          },
          "metadata": {},
          "execution_count": 29
        }
      ],
      "source": [
        "valor_1_2"
      ]
    },
    {
      "cell_type": "code",
      "execution_count": 30,
      "metadata": {
        "id": "apzz9x24kwT7"
      },
      "outputs": [],
      "source": [
        "list2 = listas[2]"
      ]
    },
    {
      "cell_type": "code",
      "execution_count": 31,
      "metadata": {
        "colab": {
          "base_uri": "https://localhost:8080/"
        },
        "id": "2R8eR8-QkwT7",
        "outputId": "4a580cf5-5e8e-415c-861e-877e62aaba12"
      },
      "outputs": [
        {
          "output_type": "execute_result",
          "data": {
            "text/plain": [
              "[10.1, 8.7, 2.3]"
            ]
          },
          "metadata": {},
          "execution_count": 31
        }
      ],
      "source": [
        "list2"
      ]
    },
    {
      "cell_type": "code",
      "execution_count": 32,
      "metadata": {
        "id": "1VySb-3DkwT8"
      },
      "outputs": [],
      "source": [
        "valor_2_0 = list2[0]"
      ]
    },
    {
      "cell_type": "code",
      "execution_count": 33,
      "metadata": {
        "colab": {
          "base_uri": "https://localhost:8080/"
        },
        "id": "IJP4flBJkwT8",
        "outputId": "983cfa65-05ec-425f-91b9-776b7ea45916"
      },
      "outputs": [
        {
          "output_type": "execute_result",
          "data": {
            "text/plain": [
              "10.1"
            ]
          },
          "metadata": {},
          "execution_count": 33
        }
      ],
      "source": [
        "valor_2_0"
      ]
    },
    {
      "cell_type": "markdown",
      "metadata": {
        "id": "PpWnXNCnkwT9"
      },
      "source": [
        "### Operações com listas"
      ]
    },
    {
      "cell_type": "code",
      "execution_count": 34,
      "metadata": {
        "id": "GD73cvYwkwT9"
      },
      "outputs": [],
      "source": [
        "# Criando uma lista aninhada (lista de listas)\n",
        "listas = [[1,2,3], [10,15,14], [10.1,8.7,2.3]]"
      ]
    },
    {
      "cell_type": "code",
      "execution_count": 35,
      "metadata": {
        "colab": {
          "base_uri": "https://localhost:8080/"
        },
        "id": "B2iW33JPkwT9",
        "outputId": "ccc8c98c-9ebf-4ddd-8b6d-fc94989e9f7c"
      },
      "outputs": [
        {
          "output_type": "execute_result",
          "data": {
            "text/plain": [
              "[[1, 2, 3], [10, 15, 14], [10.1, 8.7, 2.3]]"
            ]
          },
          "metadata": {},
          "execution_count": 35
        }
      ],
      "source": [
        "listas"
      ]
    },
    {
      "cell_type": "code",
      "execution_count": 36,
      "metadata": {
        "id": "lfNJ_cZNkwT-"
      },
      "outputs": [],
      "source": [
        "# Atribuindo à variável a, o primeiro valor da primeira lista\n",
        "a = listas[0][0]"
      ]
    },
    {
      "cell_type": "code",
      "execution_count": 37,
      "metadata": {
        "colab": {
          "base_uri": "https://localhost:8080/"
        },
        "id": "paPuoF3OkwT-",
        "outputId": "1aaa84e1-c5a7-4750-d7d3-5fbd63884040"
      },
      "outputs": [
        {
          "output_type": "execute_result",
          "data": {
            "text/plain": [
              "1"
            ]
          },
          "metadata": {},
          "execution_count": 37
        }
      ],
      "source": [
        "a"
      ]
    },
    {
      "cell_type": "code",
      "execution_count": 38,
      "metadata": {
        "id": "2uwSPlmskwT-"
      },
      "outputs": [],
      "source": [
        "b = listas[1][2]"
      ]
    },
    {
      "cell_type": "code",
      "execution_count": 39,
      "metadata": {
        "colab": {
          "base_uri": "https://localhost:8080/"
        },
        "id": "Llg-KEU-kwT_",
        "outputId": "b5d98052-7524-4263-cefd-9f48ee968b16"
      },
      "outputs": [
        {
          "output_type": "execute_result",
          "data": {
            "text/plain": [
              "14"
            ]
          },
          "metadata": {},
          "execution_count": 39
        }
      ],
      "source": [
        "b"
      ]
    },
    {
      "cell_type": "code",
      "execution_count": 40,
      "metadata": {
        "id": "eHEv5KlQkwT_"
      },
      "outputs": [],
      "source": [
        "c = listas[0][2] + 10"
      ]
    },
    {
      "cell_type": "code",
      "execution_count": 41,
      "metadata": {
        "colab": {
          "base_uri": "https://localhost:8080/"
        },
        "id": "f3AU7SXkkwT_",
        "outputId": "75658d9b-0500-43f1-da0b-18e54d29c9c0"
      },
      "outputs": [
        {
          "output_type": "execute_result",
          "data": {
            "text/plain": [
              "13"
            ]
          },
          "metadata": {},
          "execution_count": 41
        }
      ],
      "source": [
        "c"
      ]
    },
    {
      "cell_type": "code",
      "execution_count": 42,
      "metadata": {
        "id": "84lrRJcjkwUA"
      },
      "outputs": [],
      "source": [
        "d = 10"
      ]
    },
    {
      "cell_type": "code",
      "execution_count": 43,
      "metadata": {
        "colab": {
          "base_uri": "https://localhost:8080/"
        },
        "id": "js2x7FbCkwUA",
        "outputId": "0210362a-e45d-4a74-c283-88cd13a409e8"
      },
      "outputs": [
        {
          "output_type": "execute_result",
          "data": {
            "text/plain": [
              "10"
            ]
          },
          "metadata": {},
          "execution_count": 43
        }
      ],
      "source": [
        "d"
      ]
    },
    {
      "cell_type": "code",
      "execution_count": 44,
      "metadata": {
        "id": "jURqUntjkwUA"
      },
      "outputs": [],
      "source": [
        "e = d * listas[2][0]"
      ]
    },
    {
      "cell_type": "code",
      "execution_count": 45,
      "metadata": {
        "colab": {
          "base_uri": "https://localhost:8080/"
        },
        "id": "miMFpZUdkwUB",
        "outputId": "80a92ae5-5467-40d7-b610-f72e57441a86"
      },
      "outputs": [
        {
          "output_type": "execute_result",
          "data": {
            "text/plain": [
              "101.0"
            ]
          },
          "metadata": {},
          "execution_count": 45
        }
      ],
      "source": [
        "e"
      ]
    },
    {
      "cell_type": "markdown",
      "metadata": {
        "id": "uzVmL5CQkwUD"
      },
      "source": [
        "### Concatenando listas"
      ]
    },
    {
      "cell_type": "code",
      "execution_count": 80,
      "metadata": {
        "id": "5M3gZo-0kwUD"
      },
      "outputs": [],
      "source": [
        "lista_s1 = [34, 32, 56]"
      ]
    },
    {
      "cell_type": "code",
      "execution_count": 81,
      "metadata": {
        "colab": {
          "base_uri": "https://localhost:8080/"
        },
        "id": "yoYfsC7ukwUD",
        "outputId": "680f0e39-da0d-4f53-9403-0b1937536a64"
      },
      "outputs": [
        {
          "output_type": "execute_result",
          "data": {
            "text/plain": [
              "[34, 32, 56]"
            ]
          },
          "metadata": {},
          "execution_count": 81
        }
      ],
      "source": [
        "lista_s1"
      ]
    },
    {
      "cell_type": "code",
      "execution_count": 82,
      "metadata": {
        "id": "UWA0jVv3kwUE"
      },
      "outputs": [],
      "source": [
        "lista_s2 = [21, 90, 51]"
      ]
    },
    {
      "cell_type": "code",
      "execution_count": 83,
      "metadata": {
        "colab": {
          "base_uri": "https://localhost:8080/"
        },
        "id": "9LsnOmXJkwUE",
        "outputId": "8d74fe46-924f-40fd-829c-0eab728c08f7"
      },
      "outputs": [
        {
          "output_type": "execute_result",
          "data": {
            "text/plain": [
              "[21, 90, 51]"
            ]
          },
          "metadata": {},
          "execution_count": 83
        }
      ],
      "source": [
        "lista_s2"
      ]
    },
    {
      "cell_type": "code",
      "execution_count": 84,
      "metadata": {
        "id": "T3JLxKlpkwUF"
      },
      "outputs": [],
      "source": [
        "# Concatenando listas\n",
        "lista_total = lista_s1 + lista_s2"
      ]
    },
    {
      "cell_type": "code",
      "execution_count": 85,
      "metadata": {
        "colab": {
          "base_uri": "https://localhost:8080/"
        },
        "id": "HEodiKXVkwUF",
        "outputId": "2fbfc413-0c5f-4ffa-bd64-bf7e09aeffed"
      },
      "outputs": [
        {
          "output_type": "execute_result",
          "data": {
            "text/plain": [
              "[34, 32, 56, 21, 90, 51]"
            ]
          },
          "metadata": {},
          "execution_count": 85
        }
      ],
      "source": [
        "lista_total"
      ]
    },
    {
      "cell_type": "markdown",
      "metadata": {
        "id": "h7tddbJ7kwUF"
      },
      "source": [
        "## Operador in"
      ]
    },
    {
      "cell_type": "code",
      "execution_count": 49,
      "metadata": {
        "id": "PfLnIbLpkwUG"
      },
      "outputs": [],
      "source": [
        "# Criando uma lista\n",
        "lista_teste_op = [100, 2, -5, 3.4]"
      ]
    },
    {
      "cell_type": "code",
      "execution_count": 50,
      "metadata": {
        "colab": {
          "base_uri": "https://localhost:8080/"
        },
        "id": "8JlpBKAvkwUG",
        "outputId": "f47aa9a9-7ed5-4f27-a59f-64c35608add5"
      },
      "outputs": [
        {
          "output_type": "stream",
          "name": "stdout",
          "text": [
            "False\n"
          ]
        }
      ],
      "source": [
        "# Verificando se o valor 10 pertence a lista\n",
        "print(10 in lista_teste_op)"
      ]
    },
    {
      "cell_type": "code",
      "execution_count": 51,
      "metadata": {
        "colab": {
          "base_uri": "https://localhost:8080/"
        },
        "id": "fuoPZLYmkwUG",
        "outputId": "dd649a0b-4acf-42ce-a005-ae04e08093bd"
      },
      "outputs": [
        {
          "output_type": "stream",
          "name": "stdout",
          "text": [
            "True\n"
          ]
        }
      ],
      "source": [
        "# Verificando se o valor 100 pertence a lista\n",
        "print(100 in lista_teste_op)"
      ]
    },
    {
      "cell_type": "markdown",
      "metadata": {
        "id": "aD69BzFzkwUH"
      },
      "source": [
        "## Funções Built-in"
      ]
    },
    {
      "cell_type": "code",
      "execution_count": 52,
      "metadata": {
        "colab": {
          "base_uri": "https://localhost:8080/"
        },
        "id": "74Ybxs58kwUH",
        "outputId": "60c8fdd2-d904-45dd-be16-9c8553757fd1"
      },
      "outputs": [
        {
          "output_type": "execute_result",
          "data": {
            "text/plain": [
              "4"
            ]
          },
          "metadata": {},
          "execution_count": 52
        }
      ],
      "source": [
        "# Função len() retorna o comprimento da lista\n",
        "len(lista_teste_op)"
      ]
    },
    {
      "cell_type": "code",
      "execution_count": 53,
      "metadata": {
        "colab": {
          "base_uri": "https://localhost:8080/"
        },
        "id": "kw7aXX9IkwUI",
        "outputId": "91118b2c-7a23-4af0-9222-c109f7cb3255"
      },
      "outputs": [
        {
          "output_type": "execute_result",
          "data": {
            "text/plain": [
              "100"
            ]
          },
          "metadata": {},
          "execution_count": 53
        }
      ],
      "source": [
        "# Função max() retorna o valor máximo da lista\n",
        "max(lista_teste_op)"
      ]
    },
    {
      "cell_type": "code",
      "execution_count": 54,
      "metadata": {
        "colab": {
          "base_uri": "https://localhost:8080/"
        },
        "id": "7FsFOgtakwUI",
        "outputId": "3aadcd87-f322-49b8-cf89-1ae9aea6b1bf"
      },
      "outputs": [
        {
          "output_type": "execute_result",
          "data": {
            "text/plain": [
              "-5"
            ]
          },
          "metadata": {},
          "execution_count": 54
        }
      ],
      "source": [
        "# Função min() retorna o valor mínimo da lista\n",
        "min(lista_teste_op)"
      ]
    },
    {
      "cell_type": "code",
      "execution_count": 55,
      "metadata": {
        "id": "5BVS7JKokwUI"
      },
      "outputs": [],
      "source": [
        "# Criando uma lista\n",
        "listadomercado2 = [\"ovos\", \"farinha\", \"leite\", \"maças\"]"
      ]
    },
    {
      "cell_type": "code",
      "execution_count": 56,
      "metadata": {
        "id": "AAHiTBDKkwUJ"
      },
      "outputs": [],
      "source": [
        "# Adicionando um item à lista\n",
        "listadomercado2.append(\"carne\")"
      ]
    },
    {
      "cell_type": "code",
      "execution_count": 57,
      "metadata": {
        "colab": {
          "base_uri": "https://localhost:8080/"
        },
        "id": "BiGeC3TlkwUJ",
        "outputId": "f1b5c87c-083f-4fc7-c48f-30e0eb499890"
      },
      "outputs": [
        {
          "output_type": "execute_result",
          "data": {
            "text/plain": [
              "['ovos', 'farinha', 'leite', 'maças', 'carne']"
            ]
          },
          "metadata": {},
          "execution_count": 57
        }
      ],
      "source": [
        "listadomercado2"
      ]
    },
    {
      "cell_type": "code",
      "execution_count": 58,
      "metadata": {
        "id": "_Qh0o-2RkwUK"
      },
      "outputs": [],
      "source": [
        "listadomercado2.append(\"carne\")"
      ]
    },
    {
      "cell_type": "code",
      "execution_count": 59,
      "metadata": {
        "colab": {
          "base_uri": "https://localhost:8080/"
        },
        "id": "7IIHl2BGkwUK",
        "outputId": "9599cd08-9103-4adb-dbda-c9c6ddefd322"
      },
      "outputs": [
        {
          "output_type": "execute_result",
          "data": {
            "text/plain": [
              "['ovos', 'farinha', 'leite', 'maças', 'carne', 'carne']"
            ]
          },
          "metadata": {},
          "execution_count": 59
        }
      ],
      "source": [
        "listadomercado2"
      ]
    },
    {
      "cell_type": "code",
      "execution_count": 60,
      "metadata": {
        "colab": {
          "base_uri": "https://localhost:8080/"
        },
        "id": "c5LHSsNBkwUK",
        "outputId": "9abcd7c9-b608-4c4c-ecb9-47a407a709e9"
      },
      "outputs": [
        {
          "output_type": "execute_result",
          "data": {
            "text/plain": [
              "2"
            ]
          },
          "metadata": {},
          "execution_count": 60
        }
      ],
      "source": [
        "listadomercado2.count(\"carne\")"
      ]
    },
    {
      "cell_type": "code",
      "execution_count": 61,
      "metadata": {
        "id": "F4f_-G1ckwUL"
      },
      "outputs": [],
      "source": [
        "# Criando uma lista vazia\n",
        "a = []"
      ]
    },
    {
      "cell_type": "code",
      "execution_count": 62,
      "metadata": {
        "colab": {
          "base_uri": "https://localhost:8080/"
        },
        "id": "p4hAu6u6kwUL",
        "outputId": "8a5d8f7a-0848-41e2-bc9b-d5de0e6817f5"
      },
      "outputs": [
        {
          "output_type": "stream",
          "name": "stdout",
          "text": [
            "[]\n"
          ]
        }
      ],
      "source": [
        "print(a)"
      ]
    },
    {
      "cell_type": "code",
      "execution_count": 63,
      "metadata": {
        "colab": {
          "base_uri": "https://localhost:8080/"
        },
        "id": "gUW8zMr1kwUL",
        "outputId": "fab6aa87-68f0-4f82-82fe-bcc5503200ae"
      },
      "outputs": [
        {
          "output_type": "execute_result",
          "data": {
            "text/plain": [
              "list"
            ]
          },
          "metadata": {},
          "execution_count": 63
        }
      ],
      "source": [
        "type(a)"
      ]
    },
    {
      "cell_type": "code",
      "execution_count": 64,
      "metadata": {
        "id": "I7mKPF5AkwUM"
      },
      "outputs": [],
      "source": [
        "a.append(10)"
      ]
    },
    {
      "cell_type": "code",
      "execution_count": 65,
      "metadata": {
        "colab": {
          "base_uri": "https://localhost:8080/"
        },
        "id": "qbYA7D38kwUM",
        "outputId": "b5f99dc4-f74f-4a70-dbaf-64e322d30509"
      },
      "outputs": [
        {
          "output_type": "execute_result",
          "data": {
            "text/plain": [
              "[10]"
            ]
          },
          "metadata": {},
          "execution_count": 65
        }
      ],
      "source": [
        "a"
      ]
    },
    {
      "cell_type": "code",
      "execution_count": 66,
      "metadata": {
        "id": "g8XHk65TkwUM"
      },
      "outputs": [],
      "source": [
        "a.append(50)"
      ]
    },
    {
      "cell_type": "code",
      "execution_count": 67,
      "metadata": {
        "colab": {
          "base_uri": "https://localhost:8080/"
        },
        "id": "-Fa2wVt1kwUM",
        "outputId": "29d7a8db-3342-49c6-9bbb-3b71af3d1049"
      },
      "outputs": [
        {
          "output_type": "execute_result",
          "data": {
            "text/plain": [
              "[10, 50]"
            ]
          },
          "metadata": {},
          "execution_count": 67
        }
      ],
      "source": [
        "a"
      ]
    },
    {
      "cell_type": "code",
      "execution_count": 68,
      "metadata": {
        "id": "ByfR4Y7okwUN"
      },
      "outputs": [],
      "source": [
        "old_list = [1,2,5,10]"
      ]
    },
    {
      "cell_type": "code",
      "execution_count": 69,
      "metadata": {
        "id": "I-LCTTvIkwUN"
      },
      "outputs": [],
      "source": [
        "new_list = []"
      ]
    },
    {
      "cell_type": "code",
      "execution_count": 70,
      "metadata": {
        "id": "0hl3O8jQkwUN"
      },
      "outputs": [],
      "source": [
        "# Copiando os itens de uma lista para outra\n",
        "for item in old_list:\n",
        "    new_list.append(item)"
      ]
    },
    {
      "cell_type": "code",
      "execution_count": 71,
      "metadata": {
        "colab": {
          "base_uri": "https://localhost:8080/"
        },
        "id": "wJ07pTlokwUO",
        "outputId": "82b93c8e-6004-44a8-91e9-322618584f7f"
      },
      "outputs": [
        {
          "output_type": "execute_result",
          "data": {
            "text/plain": [
              "[1, 2, 5, 10]"
            ]
          },
          "metadata": {},
          "execution_count": 71
        }
      ],
      "source": [
        "new_list"
      ]
    },
    {
      "cell_type": "code",
      "execution_count": 72,
      "metadata": {
        "id": "vbW8l-lQkwUO"
      },
      "outputs": [],
      "source": [
        "c = [20,30]"
      ]
    },
    {
      "cell_type": "code",
      "execution_count": 73,
      "metadata": {
        "id": "Eor8lnwIkwUR"
      },
      "outputs": [],
      "source": [
        "c.append(60)"
      ]
    },
    {
      "cell_type": "code",
      "execution_count": 74,
      "metadata": {
        "id": "tYYQa2zOkwUR"
      },
      "outputs": [],
      "source": [
        "c.append(70)"
      ]
    },
    {
      "cell_type": "code",
      "execution_count": 75,
      "metadata": {
        "colab": {
          "base_uri": "https://localhost:8080/"
        },
        "id": "Wakd8mIXkwUR",
        "outputId": "f4a24daa-d656-46cb-e689-7b517503177d"
      },
      "outputs": [
        {
          "output_type": "execute_result",
          "data": {
            "text/plain": [
              "[20, 30, 60, 70]"
            ]
          },
          "metadata": {},
          "execution_count": 75
        }
      ],
      "source": [
        "c"
      ]
    },
    {
      "cell_type": "code",
      "execution_count": 76,
      "metadata": {
        "colab": {
          "base_uri": "https://localhost:8080/"
        },
        "id": "bwBXq20ikwUS",
        "outputId": "d71be2ef-0965-4934-c571-c8c979947bde"
      },
      "outputs": [
        {
          "output_type": "execute_result",
          "data": {
            "text/plain": [
              "1"
            ]
          },
          "metadata": {},
          "execution_count": 76
        }
      ],
      "source": [
        "# \"count\" é quantas vezes o elemento é repedido na lista.\n",
        "c.count(20)"
      ]
    },
    {
      "cell_type": "code",
      "execution_count": 77,
      "metadata": {
        "colab": {
          "base_uri": "https://localhost:8080/"
        },
        "id": "foKsdgpDkwUS",
        "outputId": "8f82b6c5-1a69-4015-c863-feb65e9fb013"
      },
      "outputs": [
        {
          "output_type": "stream",
          "name": "stdout",
          "text": [
            "['Recife', 'Manaus', 'Salvador', 'Fortaleza', 'Palmas']\n"
          ]
        }
      ],
      "source": [
        "cidades = ['Recife', 'Manaus', 'Salvador']\n",
        "cidades.extend(['Fortaleza', 'Palmas'])\n",
        "print (cidades)"
      ]
    },
    {
      "cell_type": "code",
      "execution_count": 78,
      "metadata": {
        "colab": {
          "base_uri": "https://localhost:8080/"
        },
        "id": "e1aCaQCikwUS",
        "outputId": "d3282bd3-6ae8-4258-dd36-3320da9805cf"
      },
      "outputs": [
        {
          "output_type": "execute_result",
          "data": {
            "text/plain": [
              "2"
            ]
          },
          "metadata": {},
          "execution_count": 78
        }
      ],
      "source": [
        "cidades.index('Salvador')"
      ]
    },
    {
      "cell_type": "markdown",
      "metadata": {
        "id": "sM84zO1vkwUT"
      },
      "source": [
        "Lembre-se: em Python o índice começa por 0!"
      ]
    },
    {
      "cell_type": "code",
      "execution_count": 79,
      "metadata": {
        "colab": {
          "base_uri": "https://localhost:8080/",
          "height": 165
        },
        "id": "1TemP8e_kwUT",
        "outputId": "092c2057-6724-40ad-ff1c-574bd7e2483b"
      },
      "outputs": [
        {
          "output_type": "error",
          "ename": "ValueError",
          "evalue": "ignored",
          "traceback": [
            "\u001b[0;31m---------------------------------------------------------------------------\u001b[0m",
            "\u001b[0;31mValueError\u001b[0m                                Traceback (most recent call last)",
            "\u001b[0;32m<ipython-input-79-07703d8eb3ea>\u001b[0m in \u001b[0;36m<module>\u001b[0;34m\u001b[0m\n\u001b[0;32m----> 1\u001b[0;31m \u001b[0mcidades\u001b[0m\u001b[0;34m.\u001b[0m\u001b[0mindex\u001b[0m\u001b[0;34m(\u001b[0m\u001b[0;34m'Rio de Janeiro'\u001b[0m\u001b[0;34m)\u001b[0m\u001b[0;34m\u001b[0m\u001b[0;34m\u001b[0m\u001b[0m\n\u001b[0m",
            "\u001b[0;31mValueError\u001b[0m: 'Rio de Janeiro' is not in list"
          ]
        }
      ],
      "source": [
        "cidades.index('Rio de Janeiro')"
      ]
    },
    {
      "cell_type": "code",
      "execution_count": 86,
      "metadata": {
        "colab": {
          "base_uri": "https://localhost:8080/"
        },
        "id": "Ltfg3JZxkwUT",
        "outputId": "33d98829-2852-4311-943d-8cdbfaf7d416"
      },
      "outputs": [
        {
          "output_type": "execute_result",
          "data": {
            "text/plain": [
              "['Recife', 'Manaus', 'Salvador', 'Fortaleza', 'Palmas']"
            ]
          },
          "metadata": {},
          "execution_count": 86
        }
      ],
      "source": [
        "cidades"
      ]
    },
    {
      "cell_type": "code",
      "execution_count": 87,
      "metadata": {
        "id": "G5QbB2GSkwUU"
      },
      "outputs": [],
      "source": [
        "cidades.insert(2, 110)"
      ]
    },
    {
      "cell_type": "code",
      "execution_count": 88,
      "metadata": {
        "colab": {
          "base_uri": "https://localhost:8080/"
        },
        "id": "PREWd05XkwUU",
        "outputId": "593e390c-ccda-4124-e6a4-570a3a270327"
      },
      "outputs": [
        {
          "output_type": "execute_result",
          "data": {
            "text/plain": [
              "['Recife', 'Manaus', 110, 'Salvador', 'Fortaleza', 'Palmas']"
            ]
          },
          "metadata": {},
          "execution_count": 88
        }
      ],
      "source": [
        "cidades"
      ]
    },
    {
      "cell_type": "code",
      "execution_count": 89,
      "metadata": {
        "id": "hHFXpkL0kwUU"
      },
      "outputs": [],
      "source": [
        "# Remove um item da lista\n",
        "cidades.remove(110)"
      ]
    },
    {
      "cell_type": "code",
      "execution_count": 90,
      "metadata": {
        "colab": {
          "base_uri": "https://localhost:8080/"
        },
        "id": "rqqkkutikwUV",
        "outputId": "f4585b38-5e50-4c6b-fec8-c172bdd5f644"
      },
      "outputs": [
        {
          "output_type": "execute_result",
          "data": {
            "text/plain": [
              "['Recife', 'Manaus', 'Salvador', 'Fortaleza', 'Palmas']"
            ]
          },
          "metadata": {},
          "execution_count": 90
        }
      ],
      "source": [
        "cidades"
      ]
    },
    {
      "cell_type": "code",
      "execution_count": 91,
      "metadata": {
        "id": "0c3AjJGlkwUV"
      },
      "outputs": [],
      "source": [
        "# Reverte a lista\n",
        "cidades.reverse()"
      ]
    },
    {
      "cell_type": "code",
      "execution_count": 92,
      "metadata": {
        "colab": {
          "base_uri": "https://localhost:8080/"
        },
        "id": "4lW_4rb5kwUV",
        "outputId": "1ed90356-17d5-4e6d-e25b-c156f97b7b17"
      },
      "outputs": [
        {
          "output_type": "execute_result",
          "data": {
            "text/plain": [
              "['Palmas', 'Fortaleza', 'Salvador', 'Manaus', 'Recife']"
            ]
          },
          "metadata": {},
          "execution_count": 92
        }
      ],
      "source": [
        "# Imprime a lista\n",
        "cidades"
      ]
    },
    {
      "cell_type": "code",
      "execution_count": 93,
      "metadata": {
        "id": "FzEtbubgkwUW"
      },
      "outputs": [],
      "source": [
        "x = [3, 4, 2, 1]"
      ]
    },
    {
      "cell_type": "code",
      "execution_count": 94,
      "metadata": {
        "colab": {
          "base_uri": "https://localhost:8080/"
        },
        "id": "Do3Ik9WAkwUW",
        "outputId": "8818d883-7e0e-4c30-bd0d-fde588f20305"
      },
      "outputs": [
        {
          "output_type": "execute_result",
          "data": {
            "text/plain": [
              "[3, 4, 2, 1]"
            ]
          },
          "metadata": {},
          "execution_count": 94
        }
      ],
      "source": [
        "x"
      ]
    },
    {
      "cell_type": "code",
      "execution_count": 95,
      "metadata": {
        "id": "ZG4zMLhJkwUW"
      },
      "outputs": [],
      "source": [
        "# Ordena a lista\n",
        "x.sort()"
      ]
    },
    {
      "cell_type": "code",
      "execution_count": 96,
      "metadata": {
        "colab": {
          "base_uri": "https://localhost:8080/"
        },
        "id": "Euzi1phLkwUX",
        "outputId": "eca97867-f10e-4e82-a435-a9bc3ddc205b"
      },
      "outputs": [
        {
          "output_type": "execute_result",
          "data": {
            "text/plain": [
              "[1, 2, 3, 4]"
            ]
          },
          "metadata": {},
          "execution_count": 96
        }
      ],
      "source": [
        "x"
      ]
    }
  ],
  "metadata": {
    "anaconda-cloud": {},
    "kernelspec": {
      "display_name": "Python 3",
      "language": "python",
      "name": "python3"
    },
    "language_info": {
      "codemirror_mode": {
        "name": "ipython",
        "version": 3
      },
      "file_extension": ".py",
      "mimetype": "text/x-python",
      "name": "python",
      "nbconvert_exporter": "python",
      "pygments_lexer": "ipython3",
      "version": "3.8.8"
    },
    "colab": {
      "provenance": []
    }
  },
  "nbformat": 4,
  "nbformat_minor": 0
}